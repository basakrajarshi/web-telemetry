{
 "cells": [
  {
   "cell_type": "code",
   "execution_count": 1,
   "metadata": {
    "collapsed": false
   },
   "outputs": [
    {
     "name": "stdout",
     "output_type": "stream",
     "text": [
      "Log line count (pre-filter):  3333\n"
     ]
    }
   ],
   "source": [
    "#read in audit file, using ausearch to interpret numeric values\n",
    "from subprocess import Popen, PIPE\n",
    "p = Popen(['ausearch','-if','example-data/audit.log','-i'],stdout=PIPE,stderr=PIPE)\n",
    "out, err = p.communicate()\n",
    "\n",
    "lines = out.split('\\n')\n",
    "print 'Log line count (pre-filter): ', len(lines)"
   ]
  },
  {
   "cell_type": "code",
   "execution_count": 2,
   "metadata": {
    "collapsed": false
   },
   "outputs": [
    {
     "data": {
      "text/plain": [
       "['----',\n",
       " 'type=DAEMON_START msg=audit(12/01/2016 13:03:32.540:2343) : auditd start, ver=2.4.5 format=raw kernel=4.4.0-21-generic auid=unset pid=11502 subj=unconfined  res=success ',\n",
       " '----',\n",
       " \"type=USER_END msg=audit(12/01/2016 13:03:35.140:26) : pid=10875 uid=root auid=unset ses=unset msg='op=PAM:session_close acct=root exe=/usr/bin/sudo hostname=? addr=? terminal=/dev/pts/0 res=success' \",\n",
       " '----',\n",
       " \"type=CRED_DISP msg=audit(12/01/2016 13:03:35.140:27) : pid=10875 uid=root auid=unset ses=unset msg='op=PAM:setcred acct=root exe=/usr/bin/sudo hostname=? addr=? terminal=/dev/pts/0 res=success' \",\n",
       " '----',\n",
       " 'type=SECCOMP msg=audit(12/01/2016 13:04:05.182:28) : auid=unset uid=sampedro gid=sampedro ses=unset pid=11567 comm=chrome exe=/opt/google/chrome/chrome sig=SIG0 arch=x86_64 syscall=set_robust_list compat=0 ip=0x7f94507dc694 code=errno ',\n",
       " '----',\n",
       " 'type=SECCOMP msg=audit(12/01/2016 13:04:05.186:29) : auid=unset uid=sampedro gid=sampedro ses=unset pid=11570 comm=chrome exe=/opt/google/chrome/chrome sig=SIG0 arch=x86_64 syscall=set_robust_list compat=0 ip=0x7f94507dc694 code=errno ']"
      ]
     },
     "execution_count": 2,
     "metadata": {},
     "output_type": "execute_result"
    }
   ],
   "source": [
    "lines[:10]"
   ]
  },
  {
   "cell_type": "code",
   "execution_count": 10,
   "metadata": {
    "collapsed": false
   },
   "outputs": [
    {
     "name": "stdout",
     "output_type": "stream",
     "text": [
      "1634  events logged.\n"
     ]
    }
   ],
   "source": [
    "# parse lines into events\n",
    "import re\n",
    "\n",
    "evt_pattern = r\"type=(\\w+) msg=audit\\((.+):([0-9]+)\\) : (.*)\"\n",
    "\n",
    "events = {}\n",
    "for l in lines:\n",
    "    mgrp = re.match(evt_pattern,l.strip())\n",
    "    \n",
    "    if not mgrp:\n",
    "        continue\n",
    "        \n",
    "    evt_type = mgrp.group(1)\n",
    "    evt_date = mgrp.group(2)\n",
    "    evt_id = mgrp.group(3)\n",
    "    \n",
    "    if evt_id not in events:\n",
    "        events[evt_id] = {\n",
    "            'date': evt_date\n",
    "        }\n",
    "    \n",
    "    evt = events[evt_id]\n",
    "    evt[evt_type] = {}\n",
    "    evt_cmp = evt[evt_type]\n",
    "    evt_data = mgrp.group(4)\n",
    "    \n",
    "    if evt_type == 'PROCTITLE':\n",
    "        k, v = evt_data.split('=', 1)\n",
    "        evt_cmp[k] = v\n",
    "    else:\n",
    "        for d in evt_data.split():\n",
    "            try:\n",
    "                k, v = d.split('=', 1)\n",
    "                evt_cmp[k] = v\n",
    "            except:\n",
    "                pass\n",
    "    \n",
    "print len(events.keys()), ' events logged.'"
   ]
  },
  {
   "cell_type": "code",
   "execution_count": 27,
   "metadata": {
    "collapsed": false
   },
   "outputs": [
    {
     "data": {
      "text/plain": [
       "{'CWD': {'cwd': '/etc/audit'},\n",
       " 'PATH': {'item': '0', 'name': '/usr/sbin/pager', 'nametype': 'UNKNOWN'},\n",
       " 'PROCTITLE': {'proctitle': 'systemctl status auditd'},\n",
       " 'SYSCALL': {'a0': '0x7ffdd8ab236d',\n",
       "  'a1': '0x7ffdd8ab2430',\n",
       "  'a2': '0x55e83ed34010',\n",
       "  'a3': '0x7fe8f824d7c0',\n",
       "  'arch': 'x86_64',\n",
       "  'auid': 'unset',\n",
       "  'comm': 'systemctl',\n",
       "  'egid': 'root',\n",
       "  'euid': 'root',\n",
       "  'exe': '/bin/systemctl',\n",
       "  'exit': '-2(No',\n",
       "  'fsgid': 'root',\n",
       "  'fsuid': 'root',\n",
       "  'gid': 'root',\n",
       "  'items': '1',\n",
       "  'key': '(null)',\n",
       "  'pid': '14115',\n",
       "  'ppid': '14114',\n",
       "  'ses': 'unset',\n",
       "  'sgid': 'root',\n",
       "  'success': 'no',\n",
       "  'suid': 'root',\n",
       "  'syscall': 'execve',\n",
       "  'tty': 'pts3',\n",
       "  'uid': 'root'},\n",
       " 'date': '12/01/2016 13:54:09.465'}"
      ]
     },
     "execution_count": 27,
     "metadata": {},
     "output_type": "execute_result"
    }
   ],
   "source": [
    "events['1321']"
   ]
  },
  {
   "cell_type": "code",
   "execution_count": 30,
   "metadata": {
    "collapsed": false
   },
   "outputs": [
    {
     "name": "stdout",
     "output_type": "stream",
     "text": [
      "50\n",
      "{'date': '12/01/2016 13:04:28.319', 'USER_START': {'auid': 'unset', 'exe': '/usr/bin/pkexec', 'ses': 'unset', 'uid': 'sampedro', 'res': \"success'\", 'hostname': '?', 'pid': '11602', 'terminal': '?', 'msg': \"'op=PAM:session_open\", 'acct': 'root', 'addr': '?'}}\n",
      "26\n",
      "{'date': '12/01/2016 13:03:35.140', 'USER_END': {'auid': 'unset', 'exe': '/usr/bin/sudo', 'ses': 'unset', 'uid': 'root', 'res': \"success'\", 'hostname': '?', 'pid': '10875', 'terminal': '/dev/pts/0', 'msg': \"'op=PAM:session_close\", 'acct': 'root', 'addr': '?'}}\n",
      "668\n",
      "{'date': '12/01/2016 13:28:14.476', 'USER_START': {'auid': 'unset', 'exe': '/usr/bin/sudo', 'ses': 'unset', 'uid': 'root', 'res': \"success'\", 'hostname': '?', 'pid': '12864', 'terminal': '/dev/pts/3', 'msg': \"'op=PAM:session_open\", 'acct': 'root', 'addr': '?'}}\n",
      "672\n",
      "{'date': '12/01/2016 13:28:14.484', 'USER_START': {'auid': 'unset', 'exe': '/bin/su', 'ses': 'unset', 'uid': 'root', 'res': \"success'\", 'hostname': '?', 'pid': '12865', 'terminal': '/dev/pts/3', 'msg': \"'op=PAM:session_open\", 'acct': 'root', 'addr': '?'}}\n",
      "305\n",
      "{'date': '12/01/2016 13:17:01.079', 'USER_START': {'auid': 'root', 'exe': '/usr/sbin/cron', 'ses': '3', 'uid': 'root', 'res': \"success'\", 'hostname': '?', 'pid': '12328', 'terminal': 'cron', 'msg': \"'op=PAM:session_open\", 'acct': 'root', 'addr': '?'}}\n",
      "307\n",
      "{'date': '12/01/2016 13:17:01.083', 'USER_END': {'auid': 'root', 'exe': '/usr/sbin/cron', 'ses': '3', 'uid': 'root', 'res': \"success'\", 'hostname': '?', 'pid': '12328', 'terminal': 'cron', 'msg': \"'op=PAM:session_close\", 'acct': 'root', 'addr': '?'}}\n"
     ]
    }
   ],
   "source": [
    "for k,v in events.iteritems():\n",
    "    try:\n",
    "        if ('USER_START' in v.keys()) or ('USER_END' in v.keys()):\n",
    "            print k\n",
    "            print v\n",
    "    except:\n",
    "        pass"
   ]
  },
  {
   "cell_type": "code",
   "execution_count": 19,
   "metadata": {
    "collapsed": false
   },
   "outputs": [
    {
     "name": "stdout",
     "output_type": "stream",
     "text": [
      "2016-12-01 13:28:14.476000-07:00\n"
     ]
    }
   ],
   "source": [
    "import datetime\n",
    "import pytz\n",
    "from django.utils import timezone\n",
    "\n",
    "date_str = '12/01/2016 13:28:14.476'\n",
    "\n",
    "date = datetime.datetime.strptime(date_str,'%m/%d/%Y %H:%M:%S.%f')\n",
    "date = pytz.timezone('America/Denver').localize(date)\n",
    "print date"
   ]
  },
  {
   "cell_type": "code",
   "execution_count": null,
   "metadata": {
    "collapsed": true
   },
   "outputs": [],
   "source": []
  }
 ],
 "metadata": {
  "kernelspec": {
   "display_name": "Python 2",
   "language": "python",
   "name": "python2"
  },
  "language_info": {
   "codemirror_mode": {
    "name": "ipython",
    "version": 2
   },
   "file_extension": ".py",
   "mimetype": "text/x-python",
   "name": "python",
   "nbconvert_exporter": "python",
   "pygments_lexer": "ipython2",
   "version": "2.7.12"
  }
 },
 "nbformat": 4,
 "nbformat_minor": 2
}
